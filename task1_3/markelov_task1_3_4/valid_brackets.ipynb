{
  "nbformat": 4,
  "nbformat_minor": 0,
  "metadata": {
    "colab": {
      "provenance": [],
      "collapsed_sections": []
    },
    "kernelspec": {
      "name": "python3",
      "display_name": "Python 3"
    },
    "language_info": {
      "name": "python"
    }
  },
  "cells": [
    {
      "cell_type": "markdown",
      "source": [
        "Function\n"
      ],
      "metadata": {
        "id": "cCg_aozhwpWl"
      }
    },
    {
      "cell_type": "code",
      "source": [
        "def valid_brackets(x):\n",
        "  count_sq_open = 0\n",
        "  count_sq_close = 0\n",
        "  count_round_open = 0\n",
        "  count_round_close = 0\n",
        "  count_fig_open = 0\n",
        "  count_fig_close = 0\n",
        "\n",
        "  for sign in x:\n",
        "\n",
        "    if sign=='[':\n",
        "      count_sq_open+=1\n",
        "    if sign==']':\n",
        "      count_sq_close+=1\n",
        "    if sign=='(':\n",
        "      count_round_open+=1\n",
        "    if sign==')':\n",
        "      count_round_close+=1\n",
        "    if sign=='{':\n",
        "      count_fig_open+=1\n",
        "    if sign=='}':\n",
        "      count_fig_close+=1\n",
        "\n",
        "  print(\"'[' -\",count_sq_open, \"      ']' -\", count_sq_close, \"    '(' -\", count_round_open, \"    ')' -\", count_round_close, \"    '{' -\",count_fig_open, \"    '}' -\",count_fig_close)\n",
        "\n",
        "  if (count_fig_open==count_fig_close) & (count_sq_open==count_sq_close) & (count_round_open==count_round_close):\n",
        "    return True\n",
        "  else: return False"
      ],
      "metadata": {
        "id": "jc0_4-6cvgPl"
      },
      "execution_count": 1,
      "outputs": []
    },
    {
      "cell_type": "markdown",
      "source": [
        "Example 1 - must be True"
      ],
      "metadata": {
        "id": "HHAP-0xowvn7"
      }
    },
    {
      "cell_type": "code",
      "source": [
        "x = '[{}({})]'"
      ],
      "metadata": {
        "id": "GdphNz8guBCd"
      },
      "execution_count": 2,
      "outputs": []
    },
    {
      "cell_type": "code",
      "source": [
        "valid_brackets(x)"
      ],
      "metadata": {
        "colab": {
          "base_uri": "https://localhost:8080/"
        },
        "id": "GmB3Kfocwuxb",
        "outputId": "682ac359-51b2-46c2-a67a-02ca3bc1d429"
      },
      "execution_count": 3,
      "outputs": [
        {
          "output_type": "stream",
          "name": "stdout",
          "text": [
            "'[' - 1       ']' - 1     '(' - 1     ')' - 1     '{' - 2     '}' - 2\n"
          ]
        },
        {
          "output_type": "execute_result",
          "data": {
            "text/plain": [
              "True"
            ]
          },
          "metadata": {},
          "execution_count": 3
        }
      ]
    },
    {
      "cell_type": "markdown",
      "source": [
        "Example 2 - must be False"
      ],
      "metadata": {
        "id": "rv6EtLFjytib"
      }
    },
    {
      "cell_type": "code",
      "source": [
        "x = '{]'"
      ],
      "metadata": {
        "id": "NDPc858owyae"
      },
      "execution_count": 4,
      "outputs": []
    },
    {
      "cell_type": "code",
      "source": [
        "valid_brackets(x)"
      ],
      "metadata": {
        "colab": {
          "base_uri": "https://localhost:8080/"
        },
        "id": "OAoYPxJYyxgM",
        "outputId": "40941e51-5c50-4214-9151-afa1fcd3e5f4"
      },
      "execution_count": 5,
      "outputs": [
        {
          "output_type": "stream",
          "name": "stdout",
          "text": [
            "'[' - 0       ']' - 1     '(' - 0     ')' - 0     '{' - 1     '}' - 0\n"
          ]
        },
        {
          "output_type": "execute_result",
          "data": {
            "text/plain": [
              "False"
            ]
          },
          "metadata": {},
          "execution_count": 5
        }
      ]
    },
    {
      "cell_type": "markdown",
      "source": [
        "Example 3 - must be False"
      ],
      "metadata": {
        "id": "OCGFyNrRy5xa"
      }
    },
    {
      "cell_type": "code",
      "source": [
        "x = '{'"
      ],
      "metadata": {
        "id": "joft_bcbyx5F"
      },
      "execution_count": 6,
      "outputs": []
    },
    {
      "cell_type": "code",
      "source": [
        "valid_brackets(x)"
      ],
      "metadata": {
        "colab": {
          "base_uri": "https://localhost:8080/"
        },
        "id": "BzBndORay_9D",
        "outputId": "82468460-6140-43d2-fb35-79b4c03584bb"
      },
      "execution_count": 7,
      "outputs": [
        {
          "output_type": "stream",
          "name": "stdout",
          "text": [
            "'[' - 0       ']' - 0     '(' - 0     ')' - 0     '{' - 1     '}' - 0\n"
          ]
        },
        {
          "output_type": "execute_result",
          "data": {
            "text/plain": [
              "False"
            ]
          },
          "metadata": {},
          "execution_count": 7
        }
      ]
    }
  ]
}