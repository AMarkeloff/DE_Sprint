{
  "nbformat": 4,
  "nbformat_minor": 0,
  "metadata": {
    "colab": {
      "provenance": [],
      "collapsed_sections": []
    },
    "kernelspec": {
      "name": "python3",
      "display_name": "Python 3"
    },
    "language_info": {
      "name": "python"
    }
  },
  "cells": [
    {
      "cell_type": "code",
      "execution_count": 1,
      "metadata": {
        "id": "NyCe-K82k757"
      },
      "outputs": [],
      "source": [
        "import pandas as pd"
      ]
    },
    {
      "cell_type": "markdown",
      "source": [
        "Function:"
      ],
      "metadata": {
        "id": "mnH43Fxsp40f"
      }
    },
    {
      "cell_type": "code",
      "source": [
        "def palindrome(x_input):\n",
        "  x = x_input.replace(' ','')\n",
        "  x_ = (''.join(reversed(x)))\n",
        "  if x == x_:\n",
        "    return True\n",
        "  else:\n",
        "    return False"
      ],
      "metadata": {
        "id": "beApwMPIl_OB"
      },
      "execution_count": 2,
      "outputs": []
    },
    {
      "cell_type": "markdown",
      "source": [
        "Example 1"
      ],
      "metadata": {
        "id": "lPhYLz-BpzcN"
      }
    },
    {
      "cell_type": "code",
      "source": [
        "x = 'taco cat'"
      ],
      "metadata": {
        "id": "-BP5E15_py5N"
      },
      "execution_count": 3,
      "outputs": []
    },
    {
      "cell_type": "code",
      "source": [
        "palindrome(x)"
      ],
      "metadata": {
        "colab": {
          "base_uri": "https://localhost:8080/"
        },
        "id": "UCo-wEU6ppSA",
        "outputId": "f7622788-1c0b-4af6-9b20-24fe26bf58d0"
      },
      "execution_count": 4,
      "outputs": [
        {
          "output_type": "execute_result",
          "data": {
            "text/plain": [
              "True"
            ]
          },
          "metadata": {},
          "execution_count": 4
        }
      ]
    },
    {
      "cell_type": "markdown",
      "source": [
        "Example 2"
      ],
      "metadata": {
        "id": "4ohU9lqkp7V6"
      }
    },
    {
      "cell_type": "code",
      "source": [
        "x = 'rotator'"
      ],
      "metadata": {
        "id": "LOnnScUkp-Vk"
      },
      "execution_count": 5,
      "outputs": []
    },
    {
      "cell_type": "code",
      "source": [
        "palindrome(x)"
      ],
      "metadata": {
        "colab": {
          "base_uri": "https://localhost:8080/"
        },
        "id": "dxxdcuBrqMQF",
        "outputId": "cc0e6209-db52-4313-b8ba-24f2991aa33c"
      },
      "execution_count": 6,
      "outputs": [
        {
          "output_type": "execute_result",
          "data": {
            "text/plain": [
              "True"
            ]
          },
          "metadata": {},
          "execution_count": 6
        }
      ]
    },
    {
      "cell_type": "markdown",
      "source": [
        "Example 3"
      ],
      "metadata": {
        "id": "B01EQfJPqHXU"
      }
    },
    {
      "cell_type": "code",
      "source": [
        "x = 'black cat'"
      ],
      "metadata": {
        "id": "CM16EfS6qIY0"
      },
      "execution_count": 7,
      "outputs": []
    },
    {
      "cell_type": "code",
      "source": [
        "palindrome(x)"
      ],
      "metadata": {
        "colab": {
          "base_uri": "https://localhost:8080/"
        },
        "id": "hULI1duoqMsQ",
        "outputId": "23634a2a-dd4d-4062-d7a3-8561b6874490"
      },
      "execution_count": 8,
      "outputs": [
        {
          "output_type": "execute_result",
          "data": {
            "text/plain": [
              "False"
            ]
          },
          "metadata": {},
          "execution_count": 8
        }
      ]
    }
  ]
}