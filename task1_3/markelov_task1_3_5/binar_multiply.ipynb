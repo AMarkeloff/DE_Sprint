{
  "nbformat": 4,
  "nbformat_minor": 0,
  "metadata": {
    "colab": {
      "provenance": [],
      "collapsed_sections": []
    },
    "kernelspec": {
      "name": "python3",
      "display_name": "Python 3"
    },
    "language_info": {
      "name": "python"
    }
  },
  "cells": [
    {
      "cell_type": "markdown",
      "source": [
        "Function:"
      ],
      "metadata": {
        "id": "fJnwqVFdtL2T"
      }
    },
    {
      "cell_type": "code",
      "source": [
        "def binar_multiply(x1_input,x2_input):\n",
        "  x1 = int(x1_input,2)\n",
        "  x2 = int(x2_input,2)\n",
        "  return(bin(x1*x2))"
      ],
      "metadata": {
        "id": "tuLnruiJriyZ"
      },
      "execution_count": 1,
      "outputs": []
    },
    {
      "cell_type": "markdown",
      "source": [
        "Example 1:"
      ],
      "metadata": {
        "id": "K61Km2qJsBsg"
      }
    },
    {
      "cell_type": "code",
      "source": [
        "x1 = '111' \n",
        "x2= '101'"
      ],
      "metadata": {
        "id": "ESJZICoRsBcb"
      },
      "execution_count": 2,
      "outputs": []
    },
    {
      "cell_type": "code",
      "source": [
        "binar_multiply(x1,x2)"
      ],
      "metadata": {
        "colab": {
          "base_uri": "https://localhost:8080/",
          "height": 36
        },
        "id": "jAnT3m5WsIEh",
        "outputId": "8bc6e7a4-f780-4faf-9bff-327049bd75cd"
      },
      "execution_count": 3,
      "outputs": [
        {
          "output_type": "execute_result",
          "data": {
            "text/plain": [
              "'0b100011'"
            ],
            "application/vnd.google.colaboratory.intrinsic+json": {
              "type": "string"
            }
          },
          "metadata": {},
          "execution_count": 3
        }
      ]
    }
  ]
}